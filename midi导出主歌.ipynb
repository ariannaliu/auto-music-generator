{
 "cells": [
  {
   "cell_type": "code",
   "execution_count": 1,
   "metadata": {},
   "outputs": [],
   "source": [
    "import mido\n",
    "from mido import Message, MidiFile, MidiTrack"
   ]
  },
  {
   "cell_type": "code",
   "execution_count": 2,
   "metadata": {},
   "outputs": [],
   "source": [
    "mid = MidiFile()       #给自己的文件定的.mid后缀\n",
    "track = MidiTrack()    #定义声部，一个MidoTrack()就是一个声部"
   ]
  },
  {
   "cell_type": "code",
   "execution_count": 3,
   "metadata": {},
   "outputs": [],
   "source": [
    "# def beat(time_beat):            #与mido的拍子互换\n",
    "#     miao = 60/time_beat\n",
    "#     time = miao*1000\n",
    "#     return time\n",
    "\n",
    "def beat(time):            #与mido的拍子互换  \n",
    "    time /= 60 * 1000  \n",
    "    time = 1/time  \n",
    "    return time  \n",
    "\n",
    "def yin(yin,pai,qian=0,unit = track, liang=64,qi=2): #yin是音，pai是指时间（节拍），\n",
    "    if type(yin)== str:               #qian是是音前多少拍\n",
    "        yin = num(yin)                #liang是音量\n",
    "\n",
    "    unit.append(Message('program_change',channel=0,program=qi,time=0))\n",
    "    unit.append(Message('note_on',note=yin,velocity=liang,time=qian,channel=0))\n",
    "    unit.append(Message('note_off',note=yin,velocity=liang,time=int(beat(pai)),channel=0))"
   ]
  },
  {
   "cell_type": "code",
   "execution_count": 4,
   "metadata": {},
   "outputs": [],
   "source": [
    "zhuGe1 = [2, 4, 6, 8, 9, 3, 9, 9, 9, 6, 3, 6, 6, 6, 6, 3,\n",
    "          8, 5, 5, 5, 9, 3, 8, 3, 3, 6, 3, 6, 6, 6, 6, 3,\n",
    "          8, 4, 7, 8, 7, 6, 3, 9, 6, 3, 6, 6, 6, 6, 6, 6,\n",
    "          2, 1, 4, 8, 8, 2, 3, 9, 5, 6, 6, 6, 6, 6, 6, 6,\n",
    "          2, 4, 6, 8, 9, 3, 9, 9, 9, 6, 3, 6, 6, 6, 6, 3,\n",
    "          8, 5, 5, 5, 9, 3, 8, 3, 3, 6, 3, 6, 6, 6, 6, 3,\n",
    "          8, 4, 7, 8, 7, 6, 3, 9, 6, 3, 6, 6, 6, 6, 6, 3,\n",
    "          2, 1, 4, 8, 8, 2, 3, \"la\", \"la\", \"la\", \"la\", \"la\", \"la\", \"la\", \"la\", \"la\"]"
   ]
  },
  {
   "cell_type": "code",
   "execution_count": 5,
   "metadata": {},
   "outputs": [],
   "source": [
    "zhuGe2 =[8,6,6,2,9,9,5,9,9,3,3,3,3,3,3,6,\n",
    "         3,4,8,8,5,9,7,5,6,6,3,6,6,6,6,3,\n",
    "         8,7,8,6,9,9,5,3,3,3,3,3,3,3,3,6,\n",
    "         8,8,7,6,9,5,5,9,3,3,6,6,6,6,6,6,\n",
    "         8,6,6,2,9,9,5,9,9,3,3,3,3,3,3,6,\n",
    "         3,4,8,8,6,9,9,9,3,6,6,6,3,3,3,3,\n",
    "         8,7,8,6,9,9,5,3,3,3,3,3,3,3,3,6,\n",
    "         8,8,7,6,9,5,5,\"la\",\"la\",\"la\",\"la\",\"la\",\"la\",\"la\",\"la\",\"la\"]"
   ]
  },
  {
   "cell_type": "code",
   "execution_count": 6,
   "metadata": {},
   "outputs": [],
   "source": [
    "zhuGe3 = [8, 8, 5, 8, 9, 9, 9, 6, 6, 6, 3, 6, 6, 6, 6, 3,\n",
    "          4, 8, 4, 7, 9, 3, 9, 2, 6, 5, 6, 3, 3, 3, 3, 6,\n",
    "          5, 6, 1, 2, 9, 3, 9, 6, 6, 3, 3, 5, 5, 5, 5, 6,\n",
    "          8, 8, 8, 8, 9, 9, 9, 9, 3, 6, 6, 6, 6, 6, 6, 6,\n",
    "          8, 8, 5, 8, 9, 9, 9, 6, 6, 6, 3, 3, 6, 6, 6, 3,\n",
    "          4, 8, 4, 7, 9, 3, 9, 2, 6, 5, 6, 3, 3, 3, 3, 6,\n",
    "          5, 6, 1, 2, 9, 3, 9, 6, 6, 3, 3, 5, 5, 6, 6, 6,\n",
    "          8, 8, 8, 8, 9, 9, 9, \"la\",\"la\",\"la\",\"la\",\"la\",\"la\",\"la\",\"la\",\"la\"]"
   ]
  },
  {
   "cell_type": "code",
   "execution_count": 7,
   "metadata": {},
   "outputs": [],
   "source": [
    "zhuGe4 = [8, 8, 8, 2, 9, 5, 6, 6, 3, 3, 6, 6, 6, 6, 6, 7,\n",
    "         8, 2, 8, 5, 9, 7, 9, 9, 3, 6, 6, 6, 3, 3, 3, 6,\n",
    "         7, 3, 6, 4, 7, 6, 9, 9, 3, 3, 3, 5, 3, 3, 3, 6,\n",
    "         8, 8, 8, 4, 2, 9, 9, 9, 3, 3, 3, 6, 6, 6, 6, 6,\n",
    "         8, 8, 8, 2, 9, 5, 6, 6, 3, 3, 6, 6, 6, 6, 6, 7,\n",
    "         8, 2, 8, 5, 9, 7, 9, 9, 3, 6, 6, 6, 3, 3, 3, 6,\n",
    "         7, 3, 6, 4, 7, 6, 9, 9, 3, 3, 3, 5, 3, 3, 3, 6,\n",
    "         8, 8, 8, 4, 2, 9, 9, \"la\",\"la\",\"la\",\"la\",\"la\",\"la\",\"la\",\"la\",\"la\"]"
   ]
  },
  {
   "cell_type": "code",
   "execution_count": null,
   "metadata": {},
   "outputs": [],
   "source": [
    "solo = [8, 5.0, 4.0, 5.0, 7, 8, 9, 9, 6.0, 7.0, 9.0, 9.0, 8.5, 7, 6, 6,\n",
    "       4, 8.0, 8.0, 6.0, 7, 8, 9, 9, 10.0, 9.0, 7.0, 7.0, 10.0, 9, 8.5, 6,\n",
    "       6, 8.0, 6.0, 6.0, 5, 7, 8, 9, 6.0, 7.0, 8.5, 10.0, 10.0, 9, 8.5, 7,\n",
    "       8, 8.0, 6.5, 8.0, 5, 6, 7, 8, 8.5, 6.0, 8.5, 9.0, 8.5, 7, 6, 6,\n",
    "       8, 4.0, 6.0, 6.0,5, 5, 5, 5,8.5, 7.0, 6.0, 8.5,6.0, 8.5, 9, 10,\n",
    "       4, 6.0, 6.5, 6.5, 9, 8, 7, 5, 10.0, 7.0, 10.0, 10.0, 6.0, 6, 6, 6,\n",
    "       4, 6.5, 4.0, 6.5, 5, 6, 7, 9, 6.0, 8.5, 8.5, 8.5, 6.0, 7, 9, 10,\n",
    "       8, 6.5, 5.0, 8.0, 5, 6, 7, 9,10.0, 7.0, 10.0, 7.0,8.5, 7, 6, 6]"
   ]
  },
  {
   "cell_type": "code",
   "execution_count": 8,
   "metadata": {},
   "outputs": [],
   "source": [
    "def zhuGe_reflect(num):\n",
    "    if num == \"la\":\n",
    "        result = 57\n",
    "    elif num == 1:\n",
    "        result = 60\n",
    "    elif num == 2:\n",
    "        result = 62\n",
    "    elif num == 3:\n",
    "        result = 64\n",
    "    elif num == 4:\n",
    "        result = 65\n",
    "    elif num == 5:\n",
    "        result = 67\n",
    "    elif num == 6:\n",
    "        result = 69\n",
    "    elif num == 7:\n",
    "        result = 71\n",
    "    elif num == 8:\n",
    "        result = 72\n",
    "    elif num == 9:\n",
    "        result = 74\n",
    "    elif num == 0:\n",
    "        result = 20\n",
    "    return result"
   ]
  },
  {
   "cell_type": "code",
   "execution_count": 9,
   "metadata": {},
   "outputs": [],
   "source": [
    "i=0\n",
    "for i in range(128):    #16个小节，每小节8拍，一共128\n",
    "    yin(zhuGe_reflect(zhuGe3[i]),160, 0,track,80,2)"
   ]
  },
  {
   "cell_type": "code",
   "execution_count": 10,
   "metadata": {},
   "outputs": [],
   "source": [
    "track1 = MidiTrack()\n",
    "track2 = MidiTrack()\n",
    "track3 = MidiTrack()\n",
    "rhythm1 = [-4,-5,-6,-6,\n",
    "           -4,-5,-6,-6,\n",
    "           -4,-5,-6,-6,\n",
    "           -4,-5,-6,-6,\n",
    "           -4,-5,-6,-6,\n",
    "           -4,-5,-6,-6,\n",
    "           -4,-5,-6,-6,\n",
    "           -4,-5,-6,-6]\n",
    "rhythm2 = [-6,-7,-1,-1,\n",
    "           -6,-7,-1,-1,\n",
    "           -6,-7,-1,-1,\n",
    "           -6,-7,-1,-1,\n",
    "           -6,-7,-1,-1,\n",
    "           -6,-7,-1,-1,\n",
    "           -6,-7,-1,-1,\n",
    "           -6,-7,-1,-1,]\n",
    "rhythm3 = [-1,-2,-3,-3,\n",
    "           -1,-2,-3,-3,\n",
    "           -1,-2,-3,-3,\n",
    "           -1,-2,-3,-3,\n",
    "           -1,-2,-3,-3,\n",
    "           -1,-2,-3,-3,\n",
    "           -1,-2,-3,-3,\n",
    "           -1,-2,-3,-3]\n",
    "def reflect_banzou(num):\n",
    "    if num == -4:\n",
    "        result = 53\n",
    "    elif num == -5:\n",
    "        result = 55\n",
    "    elif num == -6:\n",
    "        result = 57\n",
    "    elif num == -7:\n",
    "        result = 59\n",
    "    elif num == -1:\n",
    "        result = 60\n",
    "    elif num == -2:\n",
    "        result = 62\n",
    "    elif num == -3:\n",
    "        result = 64\n",
    "    return result\n",
    "\n",
    "a=0\n",
    "for a in range(32):\n",
    "    yin(reflect_banzou(rhythm1[a]),40, 0,track1,80,2)\n",
    "\n",
    "b=0\n",
    "for b in range(32):\n",
    "    yin(reflect_banzou(rhythm2[b]),40, 0,track2,80,2)\n",
    "\n",
    "c=0\n",
    "for c in range(32):\n",
    "    yin(reflect_banzou(rhythm3[c]),40, 0,track3,80,2)"
   ]
  },
  {
   "cell_type": "code",
   "execution_count": null,
   "metadata": {},
   "outputs": [],
   "source": []
  },
  {
   "cell_type": "code",
   "execution_count": 1,
   "metadata": {},
   "outputs": [
    {
     "ename": "NameError",
     "evalue": "name 'mid' is not defined",
     "output_type": "error",
     "traceback": [
      "\u001b[1;31m---------------------------------------------------------------------------\u001b[0m",
      "\u001b[1;31mNameError\u001b[0m                                 Traceback (most recent call last)",
      "\u001b[1;32m<ipython-input-1-8ca73bda9edf>\u001b[0m in \u001b[0;36m<module>\u001b[1;34m\u001b[0m\n\u001b[1;32m----> 1\u001b[1;33m \u001b[0mmid\u001b[0m\u001b[1;33m.\u001b[0m\u001b[0mtracks\u001b[0m\u001b[1;33m.\u001b[0m\u001b[0mappend\u001b[0m\u001b[1;33m(\u001b[0m\u001b[0mtrack\u001b[0m\u001b[1;33m)\u001b[0m\u001b[1;33m\u001b[0m\u001b[1;33m\u001b[0m\u001b[0m\n\u001b[0m\u001b[0;32m      2\u001b[0m \u001b[0mmid\u001b[0m\u001b[1;33m.\u001b[0m\u001b[0mtracks\u001b[0m\u001b[1;33m.\u001b[0m\u001b[0mappend\u001b[0m\u001b[1;33m(\u001b[0m\u001b[0mtrack1\u001b[0m\u001b[1;33m)\u001b[0m\u001b[1;33m\u001b[0m\u001b[1;33m\u001b[0m\u001b[0m\n\u001b[0;32m      3\u001b[0m \u001b[0mmid\u001b[0m\u001b[1;33m.\u001b[0m\u001b[0mtracks\u001b[0m\u001b[1;33m.\u001b[0m\u001b[0mappend\u001b[0m\u001b[1;33m(\u001b[0m\u001b[0mtrack2\u001b[0m\u001b[1;33m)\u001b[0m\u001b[1;33m\u001b[0m\u001b[1;33m\u001b[0m\u001b[0m\n\u001b[0;32m      4\u001b[0m \u001b[0mmid\u001b[0m\u001b[1;33m.\u001b[0m\u001b[0mtracks\u001b[0m\u001b[1;33m.\u001b[0m\u001b[0mappend\u001b[0m\u001b[1;33m(\u001b[0m\u001b[0mtrack3\u001b[0m\u001b[1;33m)\u001b[0m\u001b[1;33m\u001b[0m\u001b[1;33m\u001b[0m\u001b[0m\n\u001b[0;32m      5\u001b[0m \u001b[1;33m\u001b[0m\u001b[0m\n",
      "\u001b[1;31mNameError\u001b[0m: name 'mid' is not defined"
     ]
    }
   ],
   "source": [
    "mid.tracks.append(track)\n",
    "mid.tracks.append(track1)\n",
    "mid.tracks.append(track2)\n",
    "mid.tracks.append(track3)\n",
    "\n",
    "mid.save('C:\\\\Users\\\\Administrator\\\\Desktop\\\\2020Summer\\\\zhuge3.mid')"
   ]
  },
  {
   "cell_type": "code",
   "execution_count": null,
   "metadata": {},
   "outputs": [],
   "source": []
  }
 ],
 "metadata": {
  "kernelspec": {
   "display_name": "Python 3",
   "language": "python",
   "name": "python3"
  },
  "language_info": {
   "codemirror_mode": {
    "name": "ipython",
    "version": 3
   },
   "file_extension": ".py",
   "mimetype": "text/x-python",
   "name": "python",
   "nbconvert_exporter": "python",
   "pygments_lexer": "ipython3",
   "version": "3.7.6"
  }
 },
 "nbformat": 4,
 "nbformat_minor": 4
}
