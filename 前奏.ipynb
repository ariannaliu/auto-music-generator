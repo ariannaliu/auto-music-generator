{
 "cells": [
  {
   "cell_type": "code",
   "execution_count": 1,
   "metadata": {},
   "outputs": [],
   "source": [
    "def preludeF(vector):\n",
    "    num = len(vector)\n",
    "    trans_vector = []\n",
    "    for i in range(num):\n",
    "        target = vector[i]\n",
    "        if target == 1:\n",
    "            trans_vector.append(4)\n",
    "        elif target == 3:\n",
    "            trans_vector.append(6)\n",
    "        elif target == 5:\n",
    "            trans_vector.append(8)\n",
    "        elif target == 7:\n",
    "            trans_vector.append(12)\n",
    "    return trans_vector\n",
    "\n",
    "def preludeG(vector):\n",
    "    num = len(vector)\n",
    "    trans_vector = []\n",
    "    for i in range(num):\n",
    "        target = vector[i]\n",
    "        if target == 1:\n",
    "            trans_vector.append(5)\n",
    "        elif target == 3:\n",
    "            trans_vector.append(7)\n",
    "        elif target == 5:\n",
    "            trans_vector.append(9)\n",
    "        elif target == 7:\n",
    "            trans_vector.append(13)\n",
    "    return trans_vector\n",
    "\n",
    "def preludeAm(vector):\n",
    "    num = len(vector)\n",
    "    trans_vector = []\n",
    "    for i in range(num):\n",
    "        target = vector[i]\n",
    "        if target == 1:\n",
    "            trans_vector.append(6)\n",
    "        elif target == 3:\n",
    "            trans_vector.append(8)\n",
    "        elif target == 5:\n",
    "            trans_vector.append(10)\n",
    "        elif target == 7:\n",
    "            trans_vector.append(12)\n",
    "    return trans_vector\n",
    "\n",
    "def preludeC(vector):\n",
    "    num = len(vector)\n",
    "    trans_vector = []\n",
    "    for i in range(num):\n",
    "        target = vector[i]\n",
    "        if target == 1:\n",
    "            trans_vector.append(1)\n",
    "        elif target == 3:\n",
    "            trans_vector.append(3)\n",
    "        elif target == 5:\n",
    "            trans_vector.append(5)\n",
    "        elif target == 7:\n",
    "            trans_vector.append(2)\n",
    "    return trans_vector"
   ]
  },
  {
   "cell_type": "code",
   "execution_count": 2,
   "metadata": {},
   "outputs": [],
   "source": [
    "# 1 3 5 分别代表根音、三音、五音。7分别用在大调和小调中对应9和7\n",
    "# 和弦走向位F、G、Am、Am，其中前三项保持一致，最后一个Am独立生成"
   ]
  },
  {
   "cell_type": "code",
   "execution_count": 3,
   "metadata": {},
   "outputs": [],
   "source": [
    "import numpy as np\n",
    "import random"
   ]
  },
  {
   "cell_type": "code",
   "execution_count": 4,
   "metadata": {},
   "outputs": [],
   "source": [
    "Clist = [1,3,5,7]\n",
    "repeat_sequence = np.random.choice(Clist,7,p=[1/3,1/4,1/4,1/6])\n",
    "repeat_sequence = np.insert(repeat_sequence,0,1)\n",
    "Am_sequence = np.random.choice(Clist,7,p=[1/3,1/4,1/4,1/6])\n",
    "Am_sequence = np.insert(Am_sequence,0,1)\n",
    "C_sequence = np.random.choice(Clist,7,p=[1/3,1/4,1/4,1/6])\n",
    "C_sequence = np.insert(C_sequence,0,1)"
   ]
  },
  {
   "cell_type": "code",
   "execution_count": 5,
   "metadata": {},
   "outputs": [],
   "source": [
    "#和旋计划走向是F->G->Am->Am->F->G->AM->C（一共八组）"
   ]
  },
  {
   "cell_type": "code",
   "execution_count": 6,
   "metadata": {},
   "outputs": [
    {
     "name": "stdout",
     "output_type": "stream",
     "text": [
      "[4, 6, 6, 12, 4, 6, 6, 6, 5, 7, 7, 13, 5, 7, 7, 7, 6, 8, 8, 12, 6, 8, 8, 8, 6, 8, 8, 6, 6, 8, 8, 10, 4, 6, 6, 12, 4, 6, 6, 6, 5, 7, 7, 13, 5, 7, 7, 7, 6, 8, 8, 12, 6, 8, 8, 8, 1, 1, 2, 3, 5, 2, 5, 5]\n"
     ]
    }
   ],
   "source": [
    "prelude_seq = []\n",
    "i = 0\n",
    "for i in range(8):\n",
    "    if i%8 == 0:    #F\n",
    "        prelude_seq.extend(preludeF(repeat_sequence))\n",
    "    elif i%8 == 1:    #G\n",
    "        prelude_seq.extend(preludeG(repeat_sequence))\n",
    "    elif i%8 == 2:    #Am\n",
    "        prelude_seq.extend(preludeAm(repeat_sequence))\n",
    "    elif i%8 == 3:    #Am\n",
    "        prelude_seq.extend(preludeAm(Am_sequence))\n",
    "    elif i%8 == 4:    #F\n",
    "        prelude_seq.extend(preludeF(repeat_sequence))\n",
    "    elif i%8 == 5:    #G\n",
    "        prelude_seq.extend(preludeG(repeat_sequence))\n",
    "    elif i%8 == 6:    #Am\n",
    "        prelude_seq.extend(preludeAm(repeat_sequence))\n",
    "    elif i%8 == 7:    #C\n",
    "        prelude_seq.extend(preludeC(C_sequence))\n",
    "\n",
    "print(prelude_seq)"
   ]
  },
  {
   "cell_type": "code",
   "execution_count": 7,
   "metadata": {},
   "outputs": [
    {
     "name": "stdout",
     "output_type": "stream",
     "text": [
      "[65, 69, 69, 79, 65, 69, 69, 69, 67, 71, 71, 81, 67, 71, 71, 71, 69, 72, 72, 79, 69, 72, 72, 72, 69, 72, 72, 69, 69, 72, 72, 76, 65, 69, 69, 79, 65, 69, 69, 69, 67, 71, 71, 81, 67, 71, 71, 71, 69, 72, 72, 79, 69, 72, 72, 72, 60, 60, 62, 64, 67, 62, 67, 67]\n"
     ]
    },
    {
     "data": {
      "text/plain": [
       "64"
      ]
     },
     "execution_count": 7,
     "metadata": {},
     "output_type": "execute_result"
    }
   ],
   "source": [
    "#当在60以后的时候，123456对应的mido表示\n",
    "import math\n",
    "\n",
    "def map_remain(num):\n",
    "    if num == 1:\n",
    "        result = 1\n",
    "    elif num == 1.5:\n",
    "        result = 2\n",
    "    elif num == 2:\n",
    "        result = 3\n",
    "    elif num == 2.5:\n",
    "        result = 4\n",
    "    elif num == 3:\n",
    "        result = 5\n",
    "    elif num == 4:\n",
    "        result = 6\n",
    "    elif num == 4.5:\n",
    "        result = 7\n",
    "    elif num == 5:\n",
    "        result = 8\n",
    "    elif num == 5.5:\n",
    "        result = 9\n",
    "    elif num == 6:\n",
    "        result = 10\n",
    "    elif num == 6.5:\n",
    "        result = 11\n",
    "    elif num == 0:\n",
    "        result = 0\n",
    "    return result        \n",
    "        \n",
    "        \n",
    "def toMidi(vector):\n",
    "    \n",
    "    num = len(vector)\n",
    "    trans_vector = []\n",
    "    for i in range(num):\n",
    "        base = 59   #基数是59\n",
    "        target = vector[i]\n",
    "        int_part = math.floor(target)     #得到target的整数部分\n",
    "        times = math.floor(int_part/7)    #整数部分是由多少个7组成的\n",
    "        base += times*12\n",
    "        \n",
    "        remain = target - times*7        #得到剩余部分\n",
    "        base += map_remain(remain)\n",
    "        trans_vector.append(base)\n",
    "    return trans_vector\n",
    "\n",
    "midi_prelude_seq = toMidi(prelude_seq)\n",
    "print(midi_prelude_seq)\n",
    "len(midi_prelude_seq)"
   ]
  },
  {
   "cell_type": "code",
   "execution_count": 8,
   "metadata": {},
   "outputs": [],
   "source": [
    "import mido\n",
    "from mido import Message, MidiFile, MidiTrack"
   ]
  },
  {
   "cell_type": "code",
   "execution_count": 9,
   "metadata": {},
   "outputs": [],
   "source": [
    "mid = MidiFile()       #给自己的文件定的.mid后缀\n",
    "track = MidiTrack()    #定义声部，一个MidoTrack()就是一个声部"
   ]
  },
  {
   "cell_type": "code",
   "execution_count": 10,
   "metadata": {},
   "outputs": [],
   "source": [
    "def beat(time_beat):            #与mido的拍子互换\n",
    "    miao = 60/time_beat\n",
    "    time = miao*1000\n",
    "    return time\n",
    "\n",
    "def yin(yin,pai,qian=0,unit = track, liang=64,qi=2): #yin是音，pai是指时间（节拍），\n",
    "    if type(yin)== str:               #qian是是音前多少拍\n",
    "        yin = num(yin)                #liang是音量\n",
    "\n",
    "    unit.append(Message('program_change',channel=0,program=qi,time=0))\n",
    "    unit.append(Message('note_on',note=yin,velocity=liang,time=qian,channel=0))\n",
    "    unit.append(Message('note_off',note=yin,velocity=liang,time=int(beat(pai)),channel=0))"
   ]
  },
  {
   "cell_type": "code",
   "execution_count": 11,
   "metadata": {},
   "outputs": [],
   "source": [
    "j = 0\n",
    "for j in range(64):    #16个小节，每小节8拍，一共128\n",
    "    yin(midi_prelude_seq[j],160, 0,track,80,2)"
   ]
  },
  {
   "cell_type": "code",
   "execution_count": 12,
   "metadata": {},
   "outputs": [],
   "source": [
    "mid.tracks.append(track)\n",
    "mid.save('C:\\\\Users\\\\Administrator\\\\Desktop\\\\2020Summer\\\\肠粉4.mid')"
   ]
  },
  {
   "cell_type": "code",
   "execution_count": null,
   "metadata": {},
   "outputs": [],
   "source": []
  }
 ],
 "metadata": {
  "kernelspec": {
   "display_name": "Python 3",
   "language": "python",
   "name": "python3"
  },
  "language_info": {
   "codemirror_mode": {
    "name": "ipython",
    "version": 3
   },
   "file_extension": ".py",
   "mimetype": "text/x-python",
   "name": "python",
   "nbconvert_exporter": "python",
   "pygments_lexer": "ipython3",
   "version": "3.7.6"
  }
 },
 "nbformat": 4,
 "nbformat_minor": 4
}
