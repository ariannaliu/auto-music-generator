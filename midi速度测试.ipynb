{
 "cells": [
  {
   "cell_type": "code",
   "execution_count": 1,
   "metadata": {},
   "outputs": [],
   "source": [
    "import mido\n",
    "from mido import Message, MidiFile, MidiTrack"
   ]
  },
  {
   "cell_type": "code",
   "execution_count": 2,
   "metadata": {},
   "outputs": [],
   "source": [
    "mid = MidiFile()       #给自己的文件定的.mid后缀\n",
    "track = MidiTrack()    #定义声部，一个MidoTrack()就是一个声部"
   ]
  },
  {
   "cell_type": "code",
   "execution_count": 3,
   "metadata": {},
   "outputs": [],
   "source": [
    "def beat(time):            #与mido的拍子互换  \n",
    "    time /= 60 * 1000  \n",
    "    time = 1/time  \n",
    "    return time  \n",
    "\n",
    "def yin(yin,pai,qian=0,unit = track, liang=64,qi=2): #yin是音，pai是指时间（节拍），\n",
    "    if type(yin)== str:               #qian是是音前多少拍\n",
    "        yin = num(yin)                #liang是音量\n",
    "\n",
    "    unit.append(Message('program_change',channel=0,program=qi,time=0))\n",
    "    unit.append(Message('note_on',note=yin,velocity=liang,time=qian,channel=0))\n",
    "    unit.append(Message('note_off',note=yin,velocity=liang,time=int(beat(pai)),channel=0))"
   ]
  },
  {
   "cell_type": "code",
   "execution_count": null,
   "metadata": {},
   "outputs": [],
   "source": []
  },
  {
   "cell_type": "code",
   "execution_count": 4,
   "metadata": {},
   "outputs": [],
   "source": [
    "\n",
    "test = [60,64,67,60,60,60]\n",
    "i=0\n",
    "for i in range(len(test)):    #16个小节，每小节8拍，一共128\n",
    "    yin(test[i],100, 0,track,80,112)\n",
    "\n",
    "i=0\n",
    "for i in range(len(test)):    #16个小节，每小节8拍，一共128\n",
    "    yin(test[i],160, 0,track,80,107)"
   ]
  },
  {
   "cell_type": "code",
   "execution_count": 5,
   "metadata": {},
   "outputs": [],
   "source": [
    "mid.tracks.append(track)\n",
    "mid.save('C:\\\\Users\\\\Administrator\\\\Desktop\\\\测试1.mid')"
   ]
  },
  {
   "cell_type": "code",
   "execution_count": null,
   "metadata": {},
   "outputs": [],
   "source": []
  },
  {
   "cell_type": "code",
   "execution_count": null,
   "metadata": {},
   "outputs": [],
   "source": []
  },
  {
   "cell_type": "code",
   "execution_count": null,
   "metadata": {},
   "outputs": [],
   "source": []
  }
 ],
 "metadata": {
  "kernelspec": {
   "display_name": "Python 3",
   "language": "python",
   "name": "python3"
  },
  "language_info": {
   "codemirror_mode": {
    "name": "ipython",
    "version": 3
   },
   "file_extension": ".py",
   "mimetype": "text/x-python",
   "name": "python",
   "nbconvert_exporter": "python",
   "pygments_lexer": "ipython3",
   "version": "3.7.6"
  }
 },
 "nbformat": 4,
 "nbformat_minor": 4
}
