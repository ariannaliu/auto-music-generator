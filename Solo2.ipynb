{
 "cells": [
  {
   "cell_type": "code",
   "execution_count": 50,
   "metadata": {},
   "outputs": [],
   "source": [
    "import numpy as np\n",
    "import random"
   ]
  },
  {
   "cell_type": "code",
   "execution_count": 51,
   "metadata": {},
   "outputs": [],
   "source": [
    "F_list = [4,5,6,6.5,8,9,10,11]\n",
    "G_list = [5,6,7,8,9,10,11.5,12]\n",
    "Am_list = [6,7,8,9,10,11.5,12.5,13]"
   ]
  },
  {
   "cell_type": "code",
   "execution_count": 52,
   "metadata": {},
   "outputs": [],
   "source": [
    "F_135 = [4,6,8]\n",
    "G_135 = [5,7,9]\n",
    "Am_135 = [6,8,10]\n",
    "F_leadingArr = np.random.choice(F_135,1,p=[1/3,1/3,1/3])\n",
    "F_leading = F_leadingArr.tolist()\n",
    "G_leadingArr = np.random.choice(G_135,1,p=[1/3,1/3,1/3])\n",
    "G_leading = G_leadingArr.tolist()\n",
    "Am1_leadingArr = np.random.choice(Am_135,1,p=[1/3,1/3,1/3])\n",
    "Am1_leading = Am1_leadingArr.tolist()\n",
    "# Am2_leadingArr = np.random.choice(Am_135,1,p=[1/3,1/3,1/3])\n",
    "# Am2_leading = Am2_leadingArr.tolist()"
   ]
  },
  {
   "cell_type": "code",
   "execution_count": 53,
   "metadata": {},
   "outputs": [
    {
     "data": {
      "text/plain": [
       "[6, 6.5, 8.0, 9.0]"
      ]
     },
     "execution_count": 53,
     "metadata": {},
     "output_type": "execute_result"
    }
   ],
   "source": [
    "F_followingArr = np.random.choice(F_list,3,p=[1/5,2/25,1/5,2/25,1/5,2/25,2/25,2/25])     #随便弹奏\n",
    "F_following = F_followingArr.tolist()\n",
    "F = F_leading + F_following\n",
    "F"
   ]
  },
  {
   "cell_type": "code",
   "execution_count": 54,
   "metadata": {},
   "outputs": [
    {
     "data": {
      "text/plain": [
       "[9, 5.0, 8.0, 7.0]"
      ]
     },
     "execution_count": 54,
     "metadata": {},
     "output_type": "execute_result"
    }
   ],
   "source": [
    "G_followingArr = np.random.choice(G_list,3,p=[1/5,2/25,1/5,2/25,1/5,2/25,2/25,2/25])     #随便弹奏\n",
    "G_following = G_followingArr.tolist()\n",
    "G = G_leading + G_following\n",
    "G"
   ]
  },
  {
   "cell_type": "code",
   "execution_count": 55,
   "metadata": {},
   "outputs": [
    {
     "data": {
      "text/plain": [
       "[8, 9.0, 7.0, 10.0]"
      ]
     },
     "execution_count": 55,
     "metadata": {},
     "output_type": "execute_result"
    }
   ],
   "source": [
    "Am1_followingArr = np.random.choice(Am_list,3,p=[1/5,2/25,1/5,2/25,1/5,2/25,2/25,2/25])     #随便弹奏\n",
    "Am1_following = Am1_followingArr.tolist()\n",
    "Am1 = Am1_leading + Am1_following\n",
    "Am1"
   ]
  },
  {
   "cell_type": "code",
   "execution_count": 56,
   "metadata": {},
   "outputs": [
    {
     "data": {
      "text/plain": [
       "[6, 7, 8, 9, 10, 10, 10, 10]"
      ]
     },
     "execution_count": 56,
     "metadata": {},
     "output_type": "execute_result"
    }
   ],
   "source": [
    "choiceArr = np.random.choice([1,2,3,4],1,p=[1/4,1/4,1/4,1/4])\n",
    "choice = choiceArr.tolist()\n",
    "\n",
    "if choice[0] == 1:\n",
    "    Am2 = [6,7,8,9,10,10,10,10]\n",
    "elif choice[0] == 2:\n",
    "    Am2 = [10,9,8,7,6,6,6,6]\n",
    "\n",
    "else:\n",
    "    Am2_leadingArr = np.random.choice(Am_135,1,p=[1/3,1/3,1/3])\n",
    "    Am2_leading = Am2_leadingArr.tolist()\n",
    "    Am2_followingArr = np.random.choice(F_list,2,p=[1/6,1/10,1/6,1/10,1/6,1/10,1/10,1/10])\n",
    "    Am2_following = Am2_followingArr.tolist()\n",
    "    Am2 = Am2_leading + Am2_following\n",
    "    if choice[0] == 3:\n",
    "        Am2 += [6,7,8,9,10]\n",
    "    elif choice[0] == 4:\n",
    "        Am2 += [10,9,8,7,6]\n",
    "\n",
    "        \n",
    "Am2"
   ]
  },
  {
   "cell_type": "code",
   "execution_count": 57,
   "metadata": {},
   "outputs": [
    {
     "name": "stdout",
     "output_type": "stream",
     "text": [
      "[6, 6.5, 8.0, 9.0, 9, 5.0, 8.0, 7.0, 8, 9.0, 7.0, 10.0, 6, 7, 8, 9, 10, 10, 10, 10]\n"
     ]
    }
   ],
   "source": [
    "Sequence = F + G + Am1 + Am2\n",
    "print(Sequence)"
   ]
  },
  {
   "cell_type": "code",
   "execution_count": 58,
   "metadata": {},
   "outputs": [],
   "source": [
    "solo = [6, 6.0, 10.0, 6.0, 7, 11.5, 5.0, 9.0, 10, 8.0, 10.0, 10.0, 10, 5.0, 5.0, 6, 7, 8, 9, 10,\n",
    "       8, 10.0, 6.0, 5.0, 9, 5.0, 7.0, 7.0, 6, 7.0, 11.5, 10.0, 6, 7, 8, 9, 10, 10, 10, 10,\n",
    "       8, 8.0, 4.0, 5.0, 9, 5.0, 5.0, 5.0, 10, 10.0, 8.0, 10.0, 6, 4.0, 4.0, 10, 9, 8, 7, 6,\n",
    "       8, 4.0, 11.0, 8.0, 7, 5.0, 5.0, 6.0, 8, 12.5, 12.5, 6.0, 6, 7, 8, 9, 10, 10, 10, 10,\n",
    "       4, 4.0, 10.0, 11.0, 9, 6.0, 11.5, 9.0, 8, 10.0, 8.0, 10.0, 6, 5.0, 5.0, 6, 7, 8, 9, 10,\n",
    "       8, 4.0, 6.0, 6.0, 5, 12.0, 5.0, 5.0, 8, 7.0, 10.0, 8.0, 6, 6.0, 5.0, 10, 9, 8, 7, 6,\n",
    "       6, 8.0, 6.0, 6.0, 7, 7.0, 7.0, 12.0, 10, 8.0, 8.0, 11.5, 8, 8.0, 4.0, 10, 9, 8, 7, 6,\n",
    "       6, 6.5, 8.0, 9.0, 9, 5.0, 8.0, 7.0, 8, 9.0, 7.0, 10.0, 6, 7, 8, 9, 10, 10, 10, 10]"
   ]
  },
  {
   "cell_type": "code",
   "execution_count": null,
   "metadata": {},
   "outputs": [],
   "source": []
  }
 ],
 "metadata": {
  "kernelspec": {
   "display_name": "Python 3",
   "language": "python",
   "name": "python3"
  },
  "language_info": {
   "codemirror_mode": {
    "name": "ipython",
    "version": 3
   },
   "file_extension": ".py",
   "mimetype": "text/x-python",
   "name": "python",
   "nbconvert_exporter": "python",
   "pygments_lexer": "ipython3",
   "version": "3.7.6"
  }
 },
 "nbformat": 4,
 "nbformat_minor": 4
}
