{
 "cells": [
  {
   "cell_type": "code",
   "execution_count": 63,
   "metadata": {},
   "outputs": [],
   "source": [
    "import numpy as np\n",
    "import random"
   ]
  },
  {
   "cell_type": "code",
   "execution_count": 64,
   "metadata": {},
   "outputs": [],
   "source": [
    "F_list = [4,5,6,6.5,8]\n",
    "G_list = [5,6,7,8,9]\n",
    "Am_list = [6,7,8,9,10]"
   ]
  },
  {
   "cell_type": "code",
   "execution_count": 65,
   "metadata": {},
   "outputs": [],
   "source": [
    "F_135 = [4,6,8]\n",
    "G_135 = [5,7,9]\n",
    "Am_135 = [6,8,10]"
   ]
  },
  {
   "cell_type": "code",
   "execution_count": 66,
   "metadata": {},
   "outputs": [],
   "source": [
    "F1_leadingArr = np.random.choice(F_135,1,p=[1/3,1/3,1/3])\n",
    "F1_leading = F1_leadingArr.tolist()\n",
    "G1_leadingArr = np.random.choice(G_135,1,p=[1/3,1/3,1/3])\n",
    "G1_leading = G1_leadingArr.tolist()\n",
    "Am_leadingArr = np.random.choice(Am_135,1,p=[1/3,1/3,1/3])\n",
    "Am_leading = Am_leadingArr.tolist()\n",
    "# Am2_leadingArr = np.random.choice(Am_135,1,p=[1/3,1/3,1/3])\n",
    "# Am2_leading = Am2_leadingArr.tolist()"
   ]
  },
  {
   "cell_type": "code",
   "execution_count": 67,
   "metadata": {},
   "outputs": [
    {
     "data": {
      "text/plain": [
       "[4, 4.0, 6.0, 5.0]"
      ]
     },
     "execution_count": 67,
     "metadata": {},
     "output_type": "execute_result"
    }
   ],
   "source": [
    "F1_followingArr = np.random.choice(F_list,3,p=[1/5,1/5,1/5,1/5,1/5])     #随便弹奏\n",
    "F1_following = F1_followingArr.tolist()\n",
    "F1 = F1_leading + F1_following\n",
    "F1"
   ]
  },
  {
   "cell_type": "code",
   "execution_count": 68,
   "metadata": {},
   "outputs": [
    {
     "data": {
      "text/plain": [
       "[5, 8, 8, 7]"
      ]
     },
     "execution_count": 68,
     "metadata": {},
     "output_type": "execute_result"
    }
   ],
   "source": [
    "G1_followingArr = np.random.choice(G_list,3,p=[1/5,1/5,1/5,1/5,1/5])     #随便弹奏\n",
    "G1_following = G1_followingArr.tolist()\n",
    "G1 = G1_leading + G1_following\n",
    "G1"
   ]
  },
  {
   "cell_type": "code",
   "execution_count": 69,
   "metadata": {},
   "outputs": [
    {
     "data": {
      "text/plain": [
       "[10, 10, 7]"
      ]
     },
     "execution_count": 69,
     "metadata": {},
     "output_type": "execute_result"
    }
   ],
   "source": [
    "Am_following1Arr = np.random.choice(Am_list,2,p=[1/5,1/5,1/5,1/5,1/5])     #随便弹奏\n",
    "Am_following1 = Am_following1Arr.tolist()\n",
    "Am = Am_leading + Am_following1\n",
    "Am"
   ]
  },
  {
   "cell_type": "code",
   "execution_count": 70,
   "metadata": {},
   "outputs": [
    {
     "data": {
      "text/plain": [
       "[10, 10, 7, 6, 7, 8, 9, 10]"
      ]
     },
     "execution_count": 70,
     "metadata": {},
     "output_type": "execute_result"
    }
   ],
   "source": [
    "# direction = []   #0 means 琶音上行  1 means 琶音下行\n",
    "# x = 0.7   #参数设计\n",
    "if Am[2] > 8:   #G1处在较高的位置，比较适合下行\n",
    "#     directionArr = np.random.choice([0,1],1,p=[1-x,x])\n",
    "#     direction = directionArr.tolist()\n",
    "    direction = [1]\n",
    "elif Am[2] < 8:   #G1处在较高的位置，比较适合上行\n",
    "#     directionArr = np.random.choice([0,1],1,p=[x,1-x])\n",
    "#     direction = directionArr.tolist()\n",
    "    direction = [0]\n",
    "elif Am[2] == 8:   #G1处在中间\n",
    "    directionArr = np.random.choice([0,1],1,p=[0.5,0.5])\n",
    "    direction = directionArr.tolist()\n",
    "\n",
    "    \n",
    "# pos = Am_list.index(Am[2])     #查找一下leading在list之中的位置\n",
    "if direction[0] == 0:      #琶音上行\n",
    "    Am_following2 = [6,7,8,9,10]\n",
    "#     if pos == 0:\n",
    "#         del_indexArr = np.random.choice([0,1,2,3],1,p = (0.3, 0.2, 0.3,0.2))    #2,4音的概率会大一些\n",
    "#         del_index = del_indexArr.tolist()\n",
    "#         Am1_following = [7,8,9,10]\n",
    "#         del Am1_following[del_index[0]]\n",
    "    \n",
    "#     elif pos == 1:\n",
    "#         Am1_following = [8,9,10,10,10]\n",
    "#     elif pos == 2:\n",
    "#         Am1_following = [9,10,10,10]\n",
    "#     else:      #pos = 3 or 4\n",
    "#         Am1_following = [10,10,10,10]\n",
    "else:      #琶音下行\n",
    "    Am_following2 = [10,9,8,7,6]\n",
    "#     if pos == 4:\n",
    "#         del_indexArr = np.random.choice([0,1,2,3],1,p = (0.3, 0.2, 0.3,0.2))    #2,4音的概率会大一些\n",
    "#         del_index = del_indexArr.tolist()\n",
    "#         Am1_following = [9,8,7,6]\n",
    "#         del Am1_following[del_index[0]]\n",
    "#     elif pos == 3:\n",
    "#         Am1_following = [8,7,6]\n",
    "#     elif pos == 2:\n",
    "#         Am1_following = [7,6,6]\n",
    "#     else:\n",
    "#         Am1_following = [6,6,6]\n",
    "\n",
    "Am += Am_following2\n",
    "Am"
   ]
  },
  {
   "cell_type": "code",
   "execution_count": 62,
   "metadata": {},
   "outputs": [],
   "source": [
    "# # direction = []   #0 means 琶音上行  1 means 琶音下行\n",
    "# y = 0.7   #参数设计\n",
    "# if Am2_leading[0] > 7:   #G1处在较高的位置，比较适合下行\n",
    "#     directionArr = np.random.choice([0,1],1,p=[1-y,y])\n",
    "#     direction = directionArr.tolist()\n",
    "# elif Am2_leading[0] < 7:   #G1处在较高的位置，比较适合上行\n",
    "#     directionArr = np.random.choice([0,1],1,p=[y,1-y])\n",
    "#     direction = directionArr.tolist()\n",
    "# elif Am2_leading[0] == 7:   #G1处在中间\n",
    "#     directionArr = np.random.choice([0,1],1,p=[0.5,0.5])\n",
    "#     direction = directionArr.tolist()\n",
    "\n",
    "    \n",
    "# pos = Am_list.index(Am2_leading[0])     #查找一下leading在list之中的位置\n",
    "# if direction[0] == 0:      #琶音上行\n",
    "#     if pos == 0:\n",
    "#         del_indexArr = np.random.choice([0,1,2,3],1,p = (0.3, 0.2, 0.3,0.2))    #2,4音的概率会大一些\n",
    "#         del_index = del_indexArr.tolist()\n",
    "#         Am2_following = [7,8,9,10]\n",
    "#         del Am2_following[del_index[0]]\n",
    "#     elif pos == 1:\n",
    "#         Am2_following = [8,9,10]\n",
    "#     elif pos == 2:\n",
    "#         Am2_following = [9,10,10]\n",
    "#     else:      #pos = 3 or 4\n",
    "#         Am2_following = [10,10,10]\n",
    "# else:      #琶音下行\n",
    "#     if pos == 4:\n",
    "#         del_indexArr = np.random.choice([0,1,2,3],1,p = (0.3, 0.2, 0.3,0.2))    #2,4音的概率会大一些\n",
    "#         del_index = del_indexArr.tolist()\n",
    "#         Am2_following = [9,8,7,6]\n",
    "#         del Am2_following[del_index[0]]\n",
    "#     elif pos == 3:\n",
    "#         Am2_following = [8,7,6]\n",
    "#     elif pos == 2:\n",
    "#         Am2_following = [7,6,6]\n",
    "#     else:\n",
    "#         Am2_following = [6,6,6]\n",
    "\n",
    "# Am2 = Am2_leading + Am2_following\n",
    "# Am2"
   ]
  },
  {
   "cell_type": "code",
   "execution_count": null,
   "metadata": {},
   "outputs": [],
   "source": []
  },
  {
   "cell_type": "code",
   "execution_count": null,
   "metadata": {},
   "outputs": [],
   "source": []
  },
  {
   "cell_type": "code",
   "execution_count": null,
   "metadata": {},
   "outputs": [],
   "source": []
  }
 ],
 "metadata": {
  "kernelspec": {
   "display_name": "Python 3",
   "language": "python",
   "name": "python3"
  },
  "language_info": {
   "codemirror_mode": {
    "name": "ipython",
    "version": 3
   },
   "file_extension": ".py",
   "mimetype": "text/x-python",
   "name": "python",
   "nbconvert_exporter": "python",
   "pygments_lexer": "ipython3",
   "version": "3.7.6"
  }
 },
 "nbformat": 4,
 "nbformat_minor": 4
}
