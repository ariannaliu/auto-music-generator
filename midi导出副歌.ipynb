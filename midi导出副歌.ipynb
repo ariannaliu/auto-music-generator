{
 "cells": [
  {
   "cell_type": "code",
   "execution_count": 1,
   "metadata": {},
   "outputs": [],
   "source": [
    "import mido\n",
    "from mido import Message, MidiFile, MidiTrack"
   ]
  },
  {
   "cell_type": "code",
   "execution_count": 2,
   "metadata": {},
   "outputs": [],
   "source": [
    "mid = MidiFile()       #给自己的文件定的.mid后缀\n",
    "track = MidiTrack()    #定义声部，一个MidoTrack()就是一个声部"
   ]
  },
  {
   "cell_type": "code",
   "execution_count": 3,
   "metadata": {},
   "outputs": [],
   "source": [
    "def beat(time_beat):            #与mido的拍子互换\n",
    "    miao = 60/time_beat\n",
    "    time = miao*1000\n",
    "    return time\n",
    "\n",
    "def yin(yin,pai,qian=0,unit = track, liang=64,qi=2): #yin是音，pai是指时间（节拍），\n",
    "    if type(yin)== str:               #qian是是音前多少拍\n",
    "        yin = num(yin)                #liang是音量\n",
    "\n",
    "    unit.append(Message('program_change',channel=0,program=qi,time=0))\n",
    "    unit.append(Message('note_on',note=yin,velocity=liang,time=qian,channel=0))\n",
    "    unit.append(Message('note_off',note=yin,velocity=liang,time=int(beat(pai)),channel=0))"
   ]
  },
  {
   "cell_type": "code",
   "execution_count": 4,
   "metadata": {},
   "outputs": [],
   "source": [
    "fuGe1 = [3, 3, 3, 2, 5, 3, 5, 5, 5, 3, 3, -2, -2, -2, -2, -2,\n",
    "        2, 3, 2, 2, 5, 5, -2, 5, 2, 3, 2, -2, -2, 5, 5, 5,\n",
    "        3, 3, 3, 2, 5, 3, 5, 5, 5, 3, 3, -2, -2, -2, -2, -2,\n",
    "        2, 3, 2, 2, 5, 5, -2, 5, 2, 3, 2, \"la\", \"la\", \"la\", \"la\", \"la\"]"
   ]
  },
  {
   "cell_type": "code",
   "execution_count": 5,
   "metadata": {},
   "outputs": [],
   "source": [
    "fuGe2 = [2, 2, 3, 2,\n",
    "3, 5, 5, 3,\n",
    "-2, 3, -2, -2, 3, 3, 3, 3,\n",
    "\n",
    "3, 3, 3, 3,\n",
    "5, 5, 5, 5,\n",
    "3, 3, 2, 3, 3, 3, 3, -2,\n",
    "\n",
    "2, 2, 3, 2,\n",
    "3, 5, 5, 3,\n",
    "-2, 3, -2, -2, 3, 3, 3, 3,\n",
    "\n",
    "3, 3, 3, 3,\n",
    "5, 5, 5, 5,\n",
    "3, 3, 2, \"la\", \"la\", \"la\", \"la\", \"la\"]"
   ]
  },
  {
   "cell_type": "code",
   "execution_count": 6,
   "metadata": {},
   "outputs": [],
   "source": [
    "fuGe3 = [3, 3, 2, 3,\n",
    "5, 3, 5, 5,\n",
    "-2, -2, 3, 1, 1, 1, 1, -2,\n",
    "\n",
    "3, -3, 2, 3,\n",
    "5, 3, 3, 5,\n",
    "3, 3, -2, -2, -2, -2, -2, -2,\n",
    "\n",
    "3, 3, 2, 3,\n",
    "5, 3, 5, 5,\n",
    "-2, -2, 3, 1, 1, 1, 1, -2,\n",
    "\n",
    "3, -3, 2, 3,\n",
    "5, 3, 3, 5,\n",
    "3, 3, -2, \"la\", \"la\", \"la\", \"la\", \"la\"]"
   ]
  },
  {
   "cell_type": "code",
   "execution_count": 7,
   "metadata": {},
   "outputs": [],
   "source": [
    "fuGe4 = [2, -3, 3, 2,\n",
    "3, 5, 5, -2,\n",
    "-2, 3, 3, 3, 3, -2, -2,-2,\n",
    "3, -3, -3, 2,\n",
    "5, 3, 5, -2,\n",
    "-2, -2, -2, -2, 1, -2, -2, -2,\n",
    "2, -3, 3, 2,\n",
    "3, 5, 5, -2,\n",
    "-2, 3, 3, 3, 3, -2, -2,-2,\n",
    "\n",
    "3, -3, -3, 2,\n",
    "5, 3, 5, -2,\n",
    "-2, 3, 3, -2, -2, -2, -2, -2]"
   ]
  },
  {
   "cell_type": "code",
   "execution_count": 8,
   "metadata": {},
   "outputs": [],
   "source": [
    "fuGe5 = [2, 3, 2, 3,\n",
    "-2, 5, 3, 5,\n",
    "5, 3, -2, 5, 3, 3, -2, -2,\n",
    "3, 3, 2, 2,\n",
    "3, 3, 3, 3,\n",
    "1, -2, -2, -2, -2, -2, -2, -2,\n",
    "\n",
    "2, 3, 2, 3,\n",
    "-2, 5, 3, 5,\n",
    "5, 3, -2, 5, 3, 3, -2, -2,\n",
    "\n",
    "3, 3, 2, 2,\n",
    "3, 3, 3, 3,\n",
    "1, -2, -2, -2, -2, -2, -2, -2]"
   ]
  },
  {
   "cell_type": "code",
   "execution_count": 9,
   "metadata": {},
   "outputs": [],
   "source": [
    "def fuGe_reflect(num):\n",
    "    if num == \"la\":\n",
    "        result = 57\n",
    "    elif num == 1:\n",
    "        result = 60\n",
    "    elif num == 2:\n",
    "        result = 62\n",
    "    elif num == 3:\n",
    "        result = 64\n",
    "    elif num == 4:\n",
    "        result = 65\n",
    "    elif num == 5:\n",
    "        result = 67\n",
    "    elif num == 6:\n",
    "        result = 69\n",
    "    elif num == 7:\n",
    "        result = 71\n",
    "    elif num == 8:\n",
    "        result = 72\n",
    "    elif num == 9:\n",
    "        result = 74\n",
    "    elif num == 4.5:\n",
    "        result = 66\n",
    "    elif num == -2:\n",
    "        result = 57\n",
    "    elif num == -3:\n",
    "        result = 55\n",
    "    return result"
   ]
  },
  {
   "cell_type": "code",
   "execution_count": 10,
   "metadata": {},
   "outputs": [],
   "source": [
    "i=0\n",
    "for i in range(64):    #16个小节，每小节8拍，一共128\n",
    "    yin(fuGe_reflect(fuGe5[i]),160, 0,track,80,2)"
   ]
  },
  {
   "cell_type": "code",
   "execution_count": 11,
   "metadata": {},
   "outputs": [],
   "source": [
    "track1 = MidiTrack()\n",
    "track2 = MidiTrack()\n",
    "track3 = MidiTrack()\n",
    "rhythm1 = [-4,-5,-6,-6,\n",
    "           -4,-5,-6,-6,\n",
    "           -4,-5,-6,-6,\n",
    "           -4,-5,-6,-6,\n",
    "           -4,-5,-6,-6,\n",
    "           -4,-5,-6,-6,\n",
    "           -4,-5,-6,-6,\n",
    "           -4,-5,-6,-6]\n",
    "rhythm2 = [-6,-7,-1,-1,\n",
    "           -6,-7,-1,-1,\n",
    "           -6,-7,-1,-1,\n",
    "           -6,-7,-1,-1,\n",
    "           -6,-7,-1,-1,\n",
    "           -6,-7,-1,-1,\n",
    "           -6,-7,-1,-1,\n",
    "           -6,-7,-1,-1,]\n",
    "rhythm3 = [-1,-2,-3,-3,\n",
    "           -1,-2,-3,-3,\n",
    "           -1,-2,-3,-3,\n",
    "           -1,-2,-3,-3,\n",
    "           -1,-2,-3,-3,\n",
    "           -1,-2,-3,-3,\n",
    "           -1,-2,-3,-3,\n",
    "           -1,-2,-3,-3]\n",
    "def reflect_banzou(num):\n",
    "    if num == -4:\n",
    "        result = 53\n",
    "    elif num == -5:\n",
    "        result = 55\n",
    "    elif num == -6:\n",
    "        result = 57\n",
    "    elif num == -7:\n",
    "        result = 59\n",
    "    elif num == -1:\n",
    "        result = 60\n",
    "    elif num == -2:\n",
    "        result = 62\n",
    "    elif num == -3:\n",
    "        result = 64\n",
    "    return result\n",
    "\n",
    "a=0\n",
    "for a in range(16):\n",
    "    yin(reflect_banzou(rhythm1[a]),40, 0,track1,80,2)\n",
    "\n",
    "b=0\n",
    "for b in range(16):\n",
    "    yin(reflect_banzou(rhythm2[b]),40, 0,track2,80,2)\n",
    "\n",
    "c=0\n",
    "for c in range(16):\n",
    "    yin(reflect_banzou(rhythm3[c]),40, 0,track3,80,2)"
   ]
  },
  {
   "cell_type": "code",
   "execution_count": 12,
   "metadata": {},
   "outputs": [],
   "source": [
    "mid.tracks.append(track)\n",
    "mid.tracks.append(track1)\n",
    "mid.tracks.append(track2)\n",
    "mid.tracks.append(track3)\n",
    "\n",
    "mid.save('C:\\\\Users\\\\Administrator\\\\Desktop\\\\2020Summer\\\\fuge5.mid')"
   ]
  },
  {
   "cell_type": "code",
   "execution_count": null,
   "metadata": {},
   "outputs": [],
   "source": []
  }
 ],
 "metadata": {
  "kernelspec": {
   "display_name": "Python 3",
   "language": "python",
   "name": "python3"
  },
  "language_info": {
   "codemirror_mode": {
    "name": "ipython",
    "version": 3
   },
   "file_extension": ".py",
   "mimetype": "text/x-python",
   "name": "python",
   "nbconvert_exporter": "python",
   "pygments_lexer": "ipython3",
   "version": "3.7.6"
  }
 },
 "nbformat": 4,
 "nbformat_minor": 4
}
